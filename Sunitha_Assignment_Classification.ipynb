{
 "cells": [
  {
   "cell_type": "code",
   "execution_count": 86,
   "id": "73936103",
   "metadata": {},
   "outputs": [],
   "source": [
    "#Importing the required libraries\n",
    "\n",
    "import pandas as pd\n",
    "import numpy as np\n",
    "import matplotlib.pyplot as plt\n",
    "import seaborn as sns\n"
   ]
  },
  {
   "cell_type": "code",
   "execution_count": 88,
   "id": "e60e1b3f",
   "metadata": {},
   "outputs": [
    {
     "data": {
      "text/html": [
       "<div>\n",
       "<style scoped>\n",
       "    .dataframe tbody tr th:only-of-type {\n",
       "        vertical-align: middle;\n",
       "    }\n",
       "\n",
       "    .dataframe tbody tr th {\n",
       "        vertical-align: top;\n",
       "    }\n",
       "\n",
       "    .dataframe thead th {\n",
       "        text-align: right;\n",
       "    }\n",
       "</style>\n",
       "<table border=\"1\" class=\"dataframe\">\n",
       "  <thead>\n",
       "    <tr style=\"text-align: right;\">\n",
       "      <th></th>\n",
       "      <th>SL</th>\n",
       "      <th>SW</th>\n",
       "      <th>PL</th>\n",
       "      <th>PW</th>\n",
       "      <th>Classification</th>\n",
       "    </tr>\n",
       "  </thead>\n",
       "  <tbody>\n",
       "    <tr>\n",
       "      <th>0</th>\n",
       "      <td>5.1</td>\n",
       "      <td>3.5</td>\n",
       "      <td>1.4</td>\n",
       "      <td>0.2</td>\n",
       "      <td>Iris-setosa</td>\n",
       "    </tr>\n",
       "    <tr>\n",
       "      <th>1</th>\n",
       "      <td>4.9</td>\n",
       "      <td>3.0</td>\n",
       "      <td>1.4</td>\n",
       "      <td>0.2</td>\n",
       "      <td>Iris-setosa</td>\n",
       "    </tr>\n",
       "    <tr>\n",
       "      <th>2</th>\n",
       "      <td>NaN</td>\n",
       "      <td>3.2</td>\n",
       "      <td>1.3</td>\n",
       "      <td>0.2</td>\n",
       "      <td>Iris-setosa</td>\n",
       "    </tr>\n",
       "    <tr>\n",
       "      <th>3</th>\n",
       "      <td>4.6</td>\n",
       "      <td>3.1</td>\n",
       "      <td>1.5</td>\n",
       "      <td>0.2</td>\n",
       "      <td>Iris-setosa</td>\n",
       "    </tr>\n",
       "    <tr>\n",
       "      <th>4</th>\n",
       "      <td>5.0</td>\n",
       "      <td>3.6</td>\n",
       "      <td>1.4</td>\n",
       "      <td>0.2</td>\n",
       "      <td>Iris-setosa</td>\n",
       "    </tr>\n",
       "  </tbody>\n",
       "</table>\n",
       "</div>"
      ],
      "text/plain": [
       "    SL   SW   PL   PW Classification\n",
       "0  5.1  3.5  1.4  0.2    Iris-setosa\n",
       "1  4.9  3.0  1.4  0.2    Iris-setosa\n",
       "2  NaN  3.2  1.3  0.2    Iris-setosa\n",
       "3  4.6  3.1  1.5  0.2    Iris-setosa\n",
       "4  5.0  3.6  1.4  0.2    Iris-setosa"
      ]
     },
     "execution_count": 88,
     "metadata": {},
     "output_type": "execute_result"
    }
   ],
   "source": [
    "# Reading the data\n",
    "\n",
    "df=pd.read_excel('iris_1.xls')\n",
    "df.head()"
   ]
  },
  {
   "cell_type": "code",
   "execution_count": 89,
   "id": "b673edaa",
   "metadata": {},
   "outputs": [
    {
     "name": "stdout",
     "output_type": "stream",
     "text": [
      "<class 'pandas.core.frame.DataFrame'>\n",
      "RangeIndex: 150 entries, 0 to 149\n",
      "Data columns (total 5 columns):\n",
      " #   Column          Non-Null Count  Dtype  \n",
      "---  ------          --------------  -----  \n",
      " 0   SL              143 non-null    float64\n",
      " 1   SW              144 non-null    float64\n",
      " 2   PL              144 non-null    float64\n",
      " 3   PW              150 non-null    float64\n",
      " 4   Classification  150 non-null    object \n",
      "dtypes: float64(4), object(1)\n",
      "memory usage: 6.0+ KB\n"
     ]
    }
   ],
   "source": [
    "df.info()"
   ]
  },
  {
   "cell_type": "code",
   "execution_count": 90,
   "id": "3983dfbd",
   "metadata": {},
   "outputs": [
    {
     "data": {
      "text/plain": [
       "SL                7\n",
       "SW                6\n",
       "PL                6\n",
       "PW                0\n",
       "Classification    0\n",
       "dtype: int64"
      ]
     },
     "execution_count": 90,
     "metadata": {},
     "output_type": "execute_result"
    }
   ],
   "source": [
    "df.isnull().sum()"
   ]
  },
  {
   "cell_type": "markdown",
   "id": "ec4a20d3",
   "metadata": {},
   "source": [
    "Null values found in 3 columns"
   ]
  },
  {
   "cell_type": "code",
   "execution_count": 94,
   "id": "ae9341c0",
   "metadata": {},
   "outputs": [
    {
     "data": {
      "text/html": [
       "<div>\n",
       "<style scoped>\n",
       "    .dataframe tbody tr th:only-of-type {\n",
       "        vertical-align: middle;\n",
       "    }\n",
       "\n",
       "    .dataframe tbody tr th {\n",
       "        vertical-align: top;\n",
       "    }\n",
       "\n",
       "    .dataframe thead th {\n",
       "        text-align: right;\n",
       "    }\n",
       "</style>\n",
       "<table border=\"1\" class=\"dataframe\">\n",
       "  <thead>\n",
       "    <tr style=\"text-align: right;\">\n",
       "      <th></th>\n",
       "      <th>SL</th>\n",
       "      <th>SW</th>\n",
       "      <th>PL</th>\n",
       "      <th>PW</th>\n",
       "    </tr>\n",
       "  </thead>\n",
       "  <tbody>\n",
       "    <tr>\n",
       "      <th>count</th>\n",
       "      <td>143.000000</td>\n",
       "      <td>144.000000</td>\n",
       "      <td>144.000000</td>\n",
       "      <td>150.000000</td>\n",
       "    </tr>\n",
       "    <tr>\n",
       "      <th>mean</th>\n",
       "      <td>5.855944</td>\n",
       "      <td>3.049306</td>\n",
       "      <td>3.756250</td>\n",
       "      <td>1.198667</td>\n",
       "    </tr>\n",
       "    <tr>\n",
       "      <th>std</th>\n",
       "      <td>0.828168</td>\n",
       "      <td>0.430644</td>\n",
       "      <td>1.761306</td>\n",
       "      <td>0.763161</td>\n",
       "    </tr>\n",
       "    <tr>\n",
       "      <th>min</th>\n",
       "      <td>4.300000</td>\n",
       "      <td>2.000000</td>\n",
       "      <td>1.000000</td>\n",
       "      <td>0.100000</td>\n",
       "    </tr>\n",
       "    <tr>\n",
       "      <th>25%</th>\n",
       "      <td>5.100000</td>\n",
       "      <td>2.800000</td>\n",
       "      <td>1.600000</td>\n",
       "      <td>0.300000</td>\n",
       "    </tr>\n",
       "    <tr>\n",
       "      <th>50%</th>\n",
       "      <td>5.800000</td>\n",
       "      <td>3.000000</td>\n",
       "      <td>4.350000</td>\n",
       "      <td>1.300000</td>\n",
       "    </tr>\n",
       "    <tr>\n",
       "      <th>75%</th>\n",
       "      <td>6.400000</td>\n",
       "      <td>3.300000</td>\n",
       "      <td>5.100000</td>\n",
       "      <td>1.800000</td>\n",
       "    </tr>\n",
       "    <tr>\n",
       "      <th>max</th>\n",
       "      <td>7.900000</td>\n",
       "      <td>4.400000</td>\n",
       "      <td>6.900000</td>\n",
       "      <td>2.500000</td>\n",
       "    </tr>\n",
       "  </tbody>\n",
       "</table>\n",
       "</div>"
      ],
      "text/plain": [
       "               SL          SW          PL          PW\n",
       "count  143.000000  144.000000  144.000000  150.000000\n",
       "mean     5.855944    3.049306    3.756250    1.198667\n",
       "std      0.828168    0.430644    1.761306    0.763161\n",
       "min      4.300000    2.000000    1.000000    0.100000\n",
       "25%      5.100000    2.800000    1.600000    0.300000\n",
       "50%      5.800000    3.000000    4.350000    1.300000\n",
       "75%      6.400000    3.300000    5.100000    1.800000\n",
       "max      7.900000    4.400000    6.900000    2.500000"
      ]
     },
     "execution_count": 94,
     "metadata": {},
     "output_type": "execute_result"
    }
   ],
   "source": [
    "df.describe()"
   ]
  },
  {
   "cell_type": "code",
   "execution_count": 95,
   "id": "cc1d85f4",
   "metadata": {},
   "outputs": [],
   "source": [
    "# Filling the null values with mean of that column values\n",
    "\n",
    "for col in df[['SL','SW','PL','PW']]:\n",
    "    df[col].fillna(df[col].mean(),inplace=True)"
   ]
  },
  {
   "cell_type": "code",
   "execution_count": 96,
   "id": "1bb0ee4a",
   "metadata": {},
   "outputs": [
    {
     "data": {
      "text/plain": [
       "SL                0\n",
       "SW                0\n",
       "PL                0\n",
       "PW                0\n",
       "Classification    0\n",
       "dtype: int64"
      ]
     },
     "execution_count": 96,
     "metadata": {},
     "output_type": "execute_result"
    }
   ],
   "source": [
    "df.isnull().sum()"
   ]
  },
  {
   "cell_type": "code",
   "execution_count": 97,
   "id": "4c02a5c5",
   "metadata": {},
   "outputs": [
    {
     "name": "stdout",
     "output_type": "stream",
     "text": [
      "[5.1        4.9        5.85594406 4.6        5.         5.4\n",
      " 4.4        4.8        4.3        5.8        5.7        5.2\n",
      " 4.7        5.5        4.5        5.3        7.         6.9\n",
      " 6.5        6.3        6.6        5.9        6.         6.1\n",
      " 5.6        6.7        6.2        6.4        6.8        7.1\n",
      " 7.6        7.3        7.2        7.7        7.4        7.9       ]\n",
      "[3.5        3.         3.2        3.1        3.6        3.9\n",
      " 3.4        2.9        3.04930556 4.         4.4        3.8\n",
      " 3.7        3.3        4.1        4.2        2.3        2.8\n",
      " 2.4        2.7        2.         2.2        2.5        2.6       ]\n",
      "[1.4     1.3     1.5     1.7     1.6     1.1     1.2     1.      1.9\n",
      " 3.75625 4.7     4.5     4.9     4.      4.6     3.3     3.9     3.5\n",
      " 4.2     3.6     4.4     4.1     4.8     4.3     5.      3.8     3.7\n",
      " 5.1     3.      6.      5.9     5.6     5.8     6.6     6.3     5.3\n",
      " 5.5     6.7     6.9     5.7     6.1     6.4     5.4     5.2    ]\n",
      "[0.2 0.4 0.3 0.1 0.5 0.6 1.4 1.5 1.3 1.6 1.  1.1 1.8 1.2 1.7 2.5 1.9 2.1\n",
      " 2.2 2.  2.4 2.3]\n"
     ]
    }
   ],
   "source": [
    "# Checking for any different input in column\n",
    "for i in df[['SL','SW','PL','PW']]:\n",
    "    print(df[i].unique())"
   ]
  },
  {
   "cell_type": "code",
   "execution_count": 98,
   "id": "7ab3e852",
   "metadata": {},
   "outputs": [
    {
     "data": {
      "image/png": "[encoded data removed]",
      "text/plain": [
       "<Figure size 640x480 with 1 Axes>"
      ]
     },
     "metadata": {},
     "output_type": "display_data"
    },
    {
     "data": {
      "image/png": "[encoded data removed]",
      "text/plain": [
       "<Figure size 640x480 with 1 Axes>"
      ]
     },
     "metadata": {},
     "output_type": "display_data"
    },
    {
     "data": {
      "image/png": "[encoded data removed]",
      "text/plain": [
       "<Figure size 640x480 with 1 Axes>"
      ]
     },
     "metadata": {},
     "output_type": "display_data"
    },
    {
     "data": {
      "image/png": "[encoded data removed]",
      "text/plain": [
       "<Figure size 640x480 with 1 Axes>"
      ]
     },
     "metadata": {},
     "output_type": "display_data"
    }
   ],
   "source": [
    "#Checking for outliers in all columns\n",
    "\n",
    "for col in df.columns:\n",
    "    if df[col].dtype!='object':\n",
    "        plt.figure()\n",
    "        df.boxplot([col])\n",
    "        plt.title(col)\n",
    "    "
   ]
  },
  {
   "cell_type": "markdown",
   "id": "56898b31",
   "metadata": {},
   "source": [
    "Outlier found in SW"
   ]
  },
  {
   "cell_type": "code",
   "execution_count": 99,
   "id": "3c5184f7",
   "metadata": {},
   "outputs": [],
   "source": [
    "# Treating the outliers\n",
    "#Inter quartile range and upper and lower limit calculated\n",
    "\n",
    "for col in df.columns:\n",
    "    if df[col].dtype!='object':\n",
    "        q1=df[col].quantile(0.25)\n",
    "        q2=df[col].quantile(0.75)\n",
    "        iqr=q2-q1\n",
    "        upper=q2+1.5*iqr\n",
    "        lower=q1-1.5*iqr\n",
    "#Outliers lying above upper limit is substitued with upper limit value and those lying below lower limit  is subtituted with lower limit value       \n",
    "        df[col]=np.where(df[col]>upper,upper,df[col])\n",
    "        df[col]=np.where(df[col]<lower,lower,df[col])"
   ]
  },
  {
   "cell_type": "code",
   "execution_count": 100,
   "id": "cd8a0fea",
   "metadata": {},
   "outputs": [
    {
     "data": {
      "image/png": "[encoded data removed]",
      "text/plain": [
       "<Figure size 640x480 with 1 Axes>"
      ]
     },
     "metadata": {},
     "output_type": "display_data"
    },
    {
     "data": {
      "image/png": "[encoded data removed]",
      "text/plain": [
       "<Figure size 640x480 with 1 Axes>"
      ]
     },
     "metadata": {},
     "output_type": "display_data"
    },
    {
     "data": {
      "image/png": "[encoded data removed]",
      "text/plain": [
       "<Figure size 640x480 with 1 Axes>"
      ]
     },
     "metadata": {},
     "output_type": "display_data"
    },
    {
     "data": {
      "image/png": "[encoded data removed]",
      "text/plain": [
       "<Figure size 640x480 with 1 Axes>"
      ]
     },
     "metadata": {},
     "output_type": "display_data"
    }
   ],
   "source": [
    "#Again check for outliers\n",
    "for col in df.columns:\n",
    "    if df[col].dtype!='object':\n",
    "        plt.figure()\n",
    "        df.boxplot([col])\n",
    "        plt.title(col)"
   ]
  },
  {
   "cell_type": "code",
   "execution_count": 101,
   "id": "57b5f2aa",
   "metadata": {},
   "outputs": [
    {
     "data": {
      "text/plain": [
       "Index(['SL', 'SW', 'PL', 'PW', 'Classification'], dtype='object')"
      ]
     },
     "execution_count": 101,
     "metadata": {},
     "output_type": "execute_result"
    }
   ],
   "source": [
    "df.columns"
   ]
  },
  {
   "cell_type": "code",
   "execution_count": 102,
   "id": "457f94ef",
   "metadata": {},
   "outputs": [],
   "source": [
    "#Encoding target variable with  with label encoder for transforming categorical variable in to numerical one\n",
    "\n",
    "from sklearn.preprocessing import LabelEncoder\n",
    "Le=LabelEncoder()\n",
    "df['Classification']=Le.fit_transform(df['Classification'])"
   ]
  },
  {
   "cell_type": "code",
   "execution_count": 53,
   "id": "4c82853b",
   "metadata": {},
   "outputs": [],
   "source": [
    "#Dependent and target variables are defined.Classification is the target variable which has to be predicted\n",
    "x=df.drop(['Classification'],axis=1) \n",
    "y=df['Classification']"
   ]
  },
  {
   "cell_type": "code",
   "execution_count": 103,
   "id": "79b429be",
   "metadata": {},
   "outputs": [
    {
     "data": {
      "text/html": [
       "<div>\n",
       "<style scoped>\n",
       "    .dataframe tbody tr th:only-of-type {\n",
       "        vertical-align: middle;\n",
       "    }\n",
       "\n",
       "    .dataframe tbody tr th {\n",
       "        vertical-align: top;\n",
       "    }\n",
       "\n",
       "    .dataframe thead th {\n",
       "        text-align: right;\n",
       "    }\n",
       "</style>\n",
       "<table border=\"1\" class=\"dataframe\">\n",
       "  <thead>\n",
       "    <tr style=\"text-align: right;\">\n",
       "      <th></th>\n",
       "      <th>SL</th>\n",
       "      <th>SW</th>\n",
       "      <th>PL</th>\n",
       "      <th>PW</th>\n",
       "    </tr>\n",
       "  </thead>\n",
       "  <tbody>\n",
       "    <tr>\n",
       "      <th>0</th>\n",
       "      <td>5.100000</td>\n",
       "      <td>3.5</td>\n",
       "      <td>1.4</td>\n",
       "      <td>0.2</td>\n",
       "    </tr>\n",
       "    <tr>\n",
       "      <th>1</th>\n",
       "      <td>4.900000</td>\n",
       "      <td>3.0</td>\n",
       "      <td>1.4</td>\n",
       "      <td>0.2</td>\n",
       "    </tr>\n",
       "    <tr>\n",
       "      <th>2</th>\n",
       "      <td>5.855944</td>\n",
       "      <td>3.2</td>\n",
       "      <td>1.3</td>\n",
       "      <td>0.2</td>\n",
       "    </tr>\n",
       "    <tr>\n",
       "      <th>3</th>\n",
       "      <td>4.600000</td>\n",
       "      <td>3.1</td>\n",
       "      <td>1.5</td>\n",
       "      <td>0.2</td>\n",
       "    </tr>\n",
       "    <tr>\n",
       "      <th>4</th>\n",
       "      <td>5.000000</td>\n",
       "      <td>3.6</td>\n",
       "      <td>1.4</td>\n",
       "      <td>0.2</td>\n",
       "    </tr>\n",
       "  </tbody>\n",
       "</table>\n",
       "</div>"
      ],
      "text/plain": [
       "         SL   SW   PL   PW\n",
       "0  5.100000  3.5  1.4  0.2\n",
       "1  4.900000  3.0  1.4  0.2\n",
       "2  5.855944  3.2  1.3  0.2\n",
       "3  4.600000  3.1  1.5  0.2\n",
       "4  5.000000  3.6  1.4  0.2"
      ]
     },
     "execution_count": 103,
     "metadata": {},
     "output_type": "execute_result"
    }
   ],
   "source": [
    "x.head()"
   ]
  },
  {
   "cell_type": "code",
   "execution_count": 104,
   "id": "9cf6fba7",
   "metadata": {},
   "outputs": [
    {
     "data": {
      "text/plain": [
       "0    0\n",
       "1    0\n",
       "2    0\n",
       "3    0\n",
       "4    0\n",
       "Name: Classification, dtype: int32"
      ]
     },
     "execution_count": 104,
     "metadata": {},
     "output_type": "execute_result"
    }
   ],
   "source": [
    "y.head()"
   ]
  },
  {
   "cell_type": "code",
   "execution_count": 105,
   "id": "1f959beb",
   "metadata": {},
   "outputs": [],
   "source": [
    "#Splitting the data for training and testing\n",
    "\n",
    "from sklearn.model_selection import train_test_split\n",
    "x_train,x_test,y_train,y_test=train_test_split(x,y,random_state=42,test_size=0.2)"
   ]
  },
  {
   "cell_type": "code",
   "execution_count": 106,
   "id": "3bc27072",
   "metadata": {},
   "outputs": [
    {
     "data": {
      "text/plain": [
       "(120, 4)"
      ]
     },
     "execution_count": 106,
     "metadata": {},
     "output_type": "execute_result"
    }
   ],
   "source": [
    "x_train.shape"
   ]
  },
  {
   "cell_type": "code",
   "execution_count": 107,
   "id": "0ef1573f",
   "metadata": {},
   "outputs": [
    {
     "data": {
      "text/plain": [
       "(30, 4)"
      ]
     },
     "execution_count": 107,
     "metadata": {},
     "output_type": "execute_result"
    }
   ],
   "source": [
    "x_test.shape"
   ]
  },
  {
   "cell_type": "markdown",
   "id": "96cbb7f0",
   "metadata": {},
   "source": [
    "As it is a classification,we can use Logistic regression,kNN,SVM,RandomForest and Decision Tree for prediction"
   ]
  },
  {
   "cell_type": "markdown",
   "id": "71b32ecb",
   "metadata": {},
   "source": [
    "Logistic Regression"
   ]
  },
  {
   "cell_type": "code",
   "execution_count": 109,
   "id": "3808a371",
   "metadata": {},
   "outputs": [],
   "source": [
    "#Model using Logistic Regression\n",
    "#As is is a multi class problem,define multi_class and solver parameter while creating class\n",
    "from sklearn.linear_model import LogisticRegression\n",
    "logit_model=LogisticRegression(multi_class='ovr',solver='lbfgs')\n",
    "logit_model.fit(x_train,y_train)\n",
    "y_pred = logit_model.predict(x_test)"
   ]
  },
  {
   "cell_type": "markdown",
   "id": "76fe8111",
   "metadata": {},
   "source": [
    "Metrics to evaluate classification algorithm are Accuracy,Precision,Recall and F1 score"
   ]
  },
  {
   "cell_type": "code",
   "execution_count": 110,
   "id": "24cef9e8",
   "metadata": {},
   "outputs": [
    {
     "name": "stdout",
     "output_type": "stream",
     "text": [
      "Accuracy is 1.0\n",
      "Precision is 1.0\n",
      "Recall is 1.0\n",
      "f1 score is 1.0\n"
     ]
    }
   ],
   "source": [
    "#Metrics for Logistic Regression\n",
    "# As it is a multi class problem,\n",
    "from sklearn.metrics import confusion_matrix, accuracy_score, precision_score, recall_score, f1_score\n",
    "print('Accuracy is', accuracy_score(y_test, y_pred))\n",
    "print('Precision is', precision_score(y_test, y_pred,average='micro'))\n",
    "print('Recall is', recall_score(y_test, y_pred,average='micro'))\n",
    "print('f1 score is', f1_score(y_test,y_pred,average='micro'))"
   ]
  },
  {
   "cell_type": "code",
   "execution_count": 111,
   "id": "ac0aef3d",
   "metadata": {},
   "outputs": [
    {
     "data": {
      "text/plain": [
       "array([[10,  0,  0],\n",
       "       [ 0,  9,  0],\n",
       "       [ 0,  0, 11]], dtype=int64)"
      ]
     },
     "execution_count": 111,
     "metadata": {},
     "output_type": "execute_result"
    }
   ],
   "source": [
    "confusion_matrix(y_test,y_pred)"
   ]
  },
  {
   "cell_type": "markdown",
   "id": "0b9a759f",
   "metadata": {},
   "source": [
    "Using kNN "
   ]
  },
  {
   "cell_type": "code",
   "execution_count": 114,
   "id": "9928cc10",
   "metadata": {},
   "outputs": [],
   "source": [
    "#using kNN for prediction\n",
    "#Testing number of neighbours which gives bst result by looping the number from 3 to 14 and metrics are evaluated and the one with best accuracy is taken\n",
    "from sklearn.neighbors import KNeighborsClassifier\n",
    "metric_k=[]\n",
    "neighbors=np.arange(3,15)\n",
    "for k in neighbors:\n",
    "  classifier=KNeighborsClassifier(n_neighbors=k,metric='minkowski',p=4)\n",
    "  classifier.fit(x_train,y_train)\n",
    "  y_pred=classifier.predict(x_test)\n",
    "  acc=accuracy_score(y_test,y_pred)\n",
    "  metric_k.append(acc)\n"
   ]
  },
  {
   "cell_type": "code",
   "execution_count": 115,
   "id": "869fb276",
   "metadata": {},
   "outputs": [
    {
     "data": {
      "text/plain": [
       "[0.9666666666666667,\n",
       " 0.9666666666666667,\n",
       " 0.9666666666666667,\n",
       " 0.9666666666666667,\n",
       " 0.9666666666666667,\n",
       " 1.0,\n",
       " 0.9666666666666667,\n",
       " 1.0,\n",
       " 1.0,\n",
       " 1.0,\n",
       " 1.0,\n",
       " 1.0]"
      ]
     },
     "execution_count": 115,
     "metadata": {},
     "output_type": "execute_result"
    }
   ],
   "source": [
    "metric_k"
   ]
  },
  {
   "cell_type": "code",
   "execution_count": 117,
   "id": "5aa59f15",
   "metadata": {},
   "outputs": [],
   "source": [
    "# Several n gives accuracy 1,we will take n=8 as number of neighbours\n",
    "classifier=KNeighborsClassifier(n_neighbors=8,metric='minkowski',p=4)\n",
    "classifier.fit(x_train,y_train)\n",
    "y_pred=classifier.predict(x_test)\n"
   ]
  },
  {
   "cell_type": "code",
   "execution_count": 118,
   "id": "c5d2d16a",
   "metadata": {},
   "outputs": [
    {
     "name": "stdout",
     "output_type": "stream",
     "text": [
      "Accuracy is 1.0\n",
      "Precision is 1.0\n",
      "Recall is 1.0\n",
      "f1 score is 1.0\n"
     ]
    }
   ],
   "source": [
    "# Evaluating matrics of kNN\n",
    "\n",
    "from sklearn.metrics import confusion_matrix, accuracy_score, precision_score, recall_score, f1_score\n",
    "print('Accuracy is', accuracy_score(y_test, y_pred))\n",
    "print('Precision is', precision_score(y_test, y_pred,average='micro'))\n",
    "print('Recall is', recall_score(y_test, y_pred,average='micro'))\n",
    "print('f1 score is', f1_score(y_test,y_pred,average='micro'))"
   ]
  },
  {
   "cell_type": "code",
   "execution_count": 119,
   "id": "ab2f4f32",
   "metadata": {},
   "outputs": [
    {
     "data": {
      "text/plain": [
       "array([[10,  0,  0],\n",
       "       [ 0,  9,  0],\n",
       "       [ 0,  0, 11]], dtype=int64)"
      ]
     },
     "execution_count": 119,
     "metadata": {},
     "output_type": "execute_result"
    }
   ],
   "source": [
    "confusion_matrix(y_test,y_pred)"
   ]
  },
  {
   "cell_type": "markdown",
   "id": "a48d34f4",
   "metadata": {},
   "source": [
    "Using SVM "
   ]
  },
  {
   "cell_type": "code",
   "execution_count": 120,
   "id": "9b413190",
   "metadata": {},
   "outputs": [
    {
     "data": {
      "text/plain": [
       "array([1, 0, 2, 1, 1, 0, 1, 2, 1, 1, 2, 0, 0, 0, 0, 1, 2, 1, 1, 2, 0, 2,\n",
       "       0, 2, 2, 2, 2, 2, 0, 0])"
      ]
     },
     "execution_count": 120,
     "metadata": {},
     "output_type": "execute_result"
    }
   ],
   "source": [
    "# Using SVM for prediction\n",
    "\n",
    "from sklearn.svm import SVC \n",
    "sv_clf=SVC()\n",
    "sv_clf.fit(x_train,y_train)\n",
    "y_pred=sv_clf.predict(x_test)\n",
    "y_pred"
   ]
  },
  {
   "cell_type": "code",
   "execution_count": 122,
   "id": "0333149b",
   "metadata": {},
   "outputs": [
    {
     "name": "stdout",
     "output_type": "stream",
     "text": [
      "Accuracy is 1.0\n",
      "Precision is 1.0\n",
      "Recall is 1.0\n",
      "f1 score is 1.0\n"
     ]
    }
   ],
   "source": [
    "# Matrics for evaluating SVM\n",
    "\n",
    "from sklearn.metrics import confusion_matrix, accuracy_score, precision_score, recall_score, f1_score\n",
    "print('Accuracy is', accuracy_score(y_test, y_pred))\n",
    "print('Precision is', precision_score(y_test, y_pred,average='micro'))\n",
    "print('Recall is', recall_score(y_test, y_pred,average='micro'))\n",
    "print('f1 score is', f1_score(y_test,y_pred,average='micro'))"
   ]
  },
  {
   "cell_type": "markdown",
   "id": "b1b0c1ba",
   "metadata": {},
   "source": [
    "Using Decision Tree Classifier"
   ]
  },
  {
   "cell_type": "code",
   "execution_count": 123,
   "id": "a3f6b670",
   "metadata": {},
   "outputs": [],
   "source": [
    "# Using Decision tree for prediction\n",
    "from sklearn.tree import DecisionTreeClassifier\n",
    "dt_clf=DecisionTreeClassifier(random_state=42)\n",
    "dt_clf.fit(x_train,y_train)\n",
    "y_pred=dt_clf.predict(x_test)"
   ]
  },
  {
   "cell_type": "code",
   "execution_count": 124,
   "id": "86d62aea",
   "metadata": {},
   "outputs": [
    {
     "data": {
      "text/plain": [
       "array([1, 0, 2, 1, 1, 0, 1, 2, 1, 1, 2, 0, 0, 0, 0, 1, 2, 1, 1, 2, 0, 2,\n",
       "       0, 2, 2, 2, 2, 2, 0, 0])"
      ]
     },
     "execution_count": 124,
     "metadata": {},
     "output_type": "execute_result"
    }
   ],
   "source": [
    "y_pred"
   ]
  },
  {
   "cell_type": "code",
   "execution_count": 126,
   "id": "6d02cf80",
   "metadata": {},
   "outputs": [
    {
     "name": "stdout",
     "output_type": "stream",
     "text": [
      "Accuracy is 1.0\n",
      "Precision is 1.0\n",
      "Recall is 1.0\n",
      "f1 score is 1.0\n"
     ]
    }
   ],
   "source": [
    "# Matrics for evaluating Decision tree\n",
    "\n",
    "from sklearn.metrics import confusion_matrix, accuracy_score, precision_score, recall_score, f1_score\n",
    "print('Accuracy is', accuracy_score(y_test, y_pred))\n",
    "print('Precision is', precision_score(y_test, y_pred,average='micro'))\n",
    "print('Recall is', recall_score(y_test, y_pred,average='micro'))\n",
    "print('f1 score is', f1_score(y_test,y_pred,average='micro'))"
   ]
  },
  {
   "cell_type": "markdown",
   "id": "41b2c99e",
   "metadata": {},
   "source": [
    "Using RandomForest"
   ]
  },
  {
   "cell_type": "code",
   "execution_count": 127,
   "id": "73762e63",
   "metadata": {},
   "outputs": [],
   "source": [
    "#Using RandomForest for prediction\n",
    "\n",
    "from sklearn.ensemble import RandomForestClassifier\n",
    "rf_clf = RandomForestClassifier()\n",
    "rf_clf.fit(x_train,y_train)\n",
    "y_pred=rf_clf.predict(x_test)"
   ]
  },
  {
   "cell_type": "code",
   "execution_count": 128,
   "id": "bedc2fbc",
   "metadata": {},
   "outputs": [
    {
     "data": {
      "text/plain": [
       "array([1, 0, 2, 1, 1, 0, 1, 2, 1, 1, 2, 0, 0, 0, 0, 1, 2, 1, 1, 2, 0, 2,\n",
       "       0, 2, 2, 2, 2, 2, 0, 0])"
      ]
     },
     "execution_count": 128,
     "metadata": {},
     "output_type": "execute_result"
    }
   ],
   "source": [
    "y_pred"
   ]
  },
  {
   "cell_type": "code",
   "execution_count": 129,
   "id": "7e46665e",
   "metadata": {},
   "outputs": [
    {
     "name": "stdout",
     "output_type": "stream",
     "text": [
      "Accuracy is 1.0\n",
      "Precision is 1.0\n",
      "Recall is 1.0\n",
      "f1 score is 1.0\n"
     ]
    }
   ],
   "source": [
    "#Evaluating RandomForest\n",
    "\n",
    "from sklearn.metrics import confusion_matrix, accuracy_score, precision_score, recall_score, f1_score\n",
    "print('Accuracy is', accuracy_score(y_test, y_pred))\n",
    "print('Precision is', precision_score(y_test, y_pred,average='micro'))\n",
    "print('Recall is', recall_score(y_test, y_pred,average='micro'))\n",
    "print('f1 score is', f1_score(y_test,y_pred,average='micro'))"
   ]
  },
  {
   "cell_type": "markdown",
   "id": "7560c431",
   "metadata": {},
   "source": [
    "5 methods were used for making models for prediction\n",
    "1.Logistic regression\n",
    "2.kNN\n",
    "3.SVM\n",
    "4.Decision Tree\n",
    "5.RandomForest\n",
    "\n",
    "While evaluating with matrics,allmodels found to be performing with accuracy 1"
   ]
  },
  {
   "cell_type": "markdown",
   "id": "07ba250d",
   "metadata": {},
   "source": [
    "Hence all the models can be used for prediction"
   ]
  },
  {
   "cell_type": "code",
   "execution_count": null,
   "id": "9d361707",
   "metadata": {},
   "outputs": [],
   "source": []
  }
 ],
 "metadata": {
  "kernelspec": {
   "display_name": "Python 3 (ipykernel)",
   "language": "python",
   "name": "python3"
  },
  "language_info": {
   "codemirror_mode": {
    "name": "ipython",
    "version": 3
   },
   "file_extension": ".py",
   "mimetype": "text/x-python",
   "name": "python",
   "nbconvert_exporter": "python",
   "pygments_lexer": "ipython3",
   "version": "3.10.9"
  }
 },
 "nbformat": 4,
 "nbformat_minor": 5
}
