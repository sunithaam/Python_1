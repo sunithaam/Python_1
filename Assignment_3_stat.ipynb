{
 "cells": [
  {
   "cell_type": "code",
   "execution_count": 40,
   "id": "7897939a",
   "metadata": {},
   "outputs": [],
   "source": [
    "import pandas  as pd\n",
    "df=pd.read_csv('Students_Performance.csv')\n"
   ]
  },
  {
   "cell_type": "code",
   "execution_count": 41,
   "id": "2cd54be1",
   "metadata": {},
   "outputs": [
    {
     "data": {
      "text/plain": [
       "female    518\n",
       "male      482\n",
       "Name: gender, dtype: int64"
      ]
     },
     "execution_count": 41,
     "metadata": {},
     "output_type": "execute_result"
    }
   ],
   "source": [
    "# 1 a)Find out how many males and females participated in the test.\n",
    "df['gender'].value_counts()"
   ]
  },
  {
   "cell_type": "code",
   "execution_count": 42,
   "id": "04ebd9b1",
   "metadata": {},
   "outputs": [
    {
     "data": {
      "text/plain": [
       "some college          226\n",
       "associate's degree    222\n",
       "high school           196\n",
       "some high school      179\n",
       "bachelor's degree     118\n",
       "master's degree        59\n",
       "Name: parental level of education, dtype: int64"
      ]
     },
     "execution_count": 42,
     "metadata": {},
     "output_type": "execute_result"
    }
   ],
   "source": [
    "# 1 b) What do you think about the students' parental level of education?\n",
    "df['parental level of education'].value_counts()"
   ]
  },
  {
   "cell_type": "markdown",
   "id": "1bc9bd55",
   "metadata": {},
   "source": [
    "Most of the parents have education from some college.Very few have masters degree."
   ]
  },
  {
   "cell_type": "code",
   "execution_count": 48,
   "id": "3fe0db6b",
   "metadata": {},
   "outputs": [
    {
     "data": {
      "text/html": [
       "<div>\n",
       "<style scoped>\n",
       "    .dataframe tbody tr th:only-of-type {\n",
       "        vertical-align: middle;\n",
       "    }\n",
       "\n",
       "    .dataframe tbody tr th {\n",
       "        vertical-align: top;\n",
       "    }\n",
       "\n",
       "    .dataframe thead th {\n",
       "        text-align: right;\n",
       "    }\n",
       "</style>\n",
       "<table border=\"1\" class=\"dataframe\">\n",
       "  <thead>\n",
       "    <tr style=\"text-align: right;\">\n",
       "      <th></th>\n",
       "      <th>math score</th>\n",
       "      <th>reading score</th>\n",
       "      <th>writing score</th>\n",
       "    </tr>\n",
       "    <tr>\n",
       "      <th>gender</th>\n",
       "      <th></th>\n",
       "      <th></th>\n",
       "      <th></th>\n",
       "    </tr>\n",
       "  </thead>\n",
       "  <tbody>\n",
       "    <tr>\n",
       "      <th>female</th>\n",
       "      <td>63.376448</td>\n",
       "      <td>72.590734</td>\n",
       "      <td>72.467181</td>\n",
       "    </tr>\n",
       "    <tr>\n",
       "      <th>male</th>\n",
       "      <td>68.821577</td>\n",
       "      <td>65.545643</td>\n",
       "      <td>63.446058</td>\n",
       "    </tr>\n",
       "  </tbody>\n",
       "</table>\n",
       "</div>"
      ],
      "text/plain": [
       "        math score  reading score  writing score\n",
       "gender                                          \n",
       "female   63.376448      72.590734      72.467181\n",
       "male     68.821577      65.545643      63.446058"
      ]
     },
     "execution_count": 48,
     "metadata": {},
     "output_type": "execute_result"
    }
   ],
   "source": [
    "# 1 c)Who scores the most on average for math, reading and writing based on gender\n",
    "\n",
    "y=df.groupby('gender')[['math score','reading score','writing score']].mean()\n",
    "y"
   ]
  },
  {
   "cell_type": "code",
   "execution_count": 49,
   "id": "a5d5f2b8",
   "metadata": {},
   "outputs": [
    {
     "data": {
      "text/plain": [
       "math score         male\n",
       "reading score    female\n",
       "writing score    female\n",
       "dtype: object"
      ]
     },
     "execution_count": 49,
     "metadata": {},
     "output_type": "execute_result"
    }
   ],
   "source": [
    "# c.i.) Based on Gender\n",
    "y.idxmax()"
   ]
  },
  {
   "cell_type": "code",
   "execution_count": 50,
   "id": "e9ccfb0d",
   "metadata": {},
   "outputs": [
    {
     "data": {
      "text/html": [
       "<div>\n",
       "<style scoped>\n",
       "    .dataframe tbody tr th:only-of-type {\n",
       "        vertical-align: middle;\n",
       "    }\n",
       "\n",
       "    .dataframe tbody tr th {\n",
       "        vertical-align: top;\n",
       "    }\n",
       "\n",
       "    .dataframe thead th {\n",
       "        text-align: right;\n",
       "    }\n",
       "</style>\n",
       "<table border=\"1\" class=\"dataframe\">\n",
       "  <thead>\n",
       "    <tr style=\"text-align: right;\">\n",
       "      <th></th>\n",
       "      <th>math score</th>\n",
       "      <th>reading score</th>\n",
       "      <th>writing score</th>\n",
       "    </tr>\n",
       "    <tr>\n",
       "      <th>test preparation course</th>\n",
       "      <th></th>\n",
       "      <th></th>\n",
       "      <th></th>\n",
       "    </tr>\n",
       "  </thead>\n",
       "  <tbody>\n",
       "    <tr>\n",
       "      <th>completed</th>\n",
       "      <td>69.96648</td>\n",
       "      <td>74.175978</td>\n",
       "      <td>74.684358</td>\n",
       "    </tr>\n",
       "    <tr>\n",
       "      <th>none</th>\n",
       "      <td>63.78972</td>\n",
       "      <td>66.417445</td>\n",
       "      <td>64.457944</td>\n",
       "    </tr>\n",
       "  </tbody>\n",
       "</table>\n",
       "</div>"
      ],
      "text/plain": [
       "                         math score  reading score  writing score\n",
       "test preparation course                                          \n",
       "completed                  69.96648      74.175978      74.684358\n",
       "none                       63.78972      66.417445      64.457944"
      ]
     },
     "execution_count": 50,
     "metadata": {},
     "output_type": "execute_result"
    }
   ],
   "source": [
    "# c.ii)\n",
    "x=df.groupby('test preparation course')[['math score','reading score','writing score']].mean()\n",
    "x"
   ]
  },
  {
   "cell_type": "code",
   "execution_count": 51,
   "id": "18915068",
   "metadata": {},
   "outputs": [
    {
     "data": {
      "text/plain": [
       "math score       completed\n",
       "reading score    completed\n",
       "writing score    completed\n",
       "dtype: object"
      ]
     },
     "execution_count": 51,
     "metadata": {},
     "output_type": "execute_result"
    }
   ],
   "source": [
    "# c.ii) based on test preparation course\n",
    "x.idxmax()"
   ]
  },
  {
   "cell_type": "markdown",
   "id": "82ff2118",
   "metadata": {},
   "source": [
    "Base on gender,male got the highest math score and frmale got highest in reading and writing score\n",
    "Base on test preparation course,those who completed the course got highest in all 3 sections"
   ]
  },
  {
   "cell_type": "code",
   "execution_count": 58,
   "id": "83b1a407",
   "metadata": {},
   "outputs": [
    {
     "data": {
      "text/html": [
       "<div>\n",
       "<style scoped>\n",
       "    .dataframe tbody tr th:only-of-type {\n",
       "        vertical-align: middle;\n",
       "    }\n",
       "\n",
       "    .dataframe tbody tr th {\n",
       "        vertical-align: top;\n",
       "    }\n",
       "\n",
       "    .dataframe thead tr th {\n",
       "        text-align: left;\n",
       "    }\n",
       "\n",
       "    .dataframe thead tr:last-of-type th {\n",
       "        text-align: right;\n",
       "    }\n",
       "</style>\n",
       "<table border=\"1\" class=\"dataframe\">\n",
       "  <thead>\n",
       "    <tr>\n",
       "      <th></th>\n",
       "      <th colspan=\"4\" halign=\"left\">math score</th>\n",
       "      <th colspan=\"4\" halign=\"left\">reading score</th>\n",
       "      <th colspan=\"4\" halign=\"left\">writing score</th>\n",
       "    </tr>\n",
       "    <tr>\n",
       "      <th></th>\n",
       "      <th>max</th>\n",
       "      <th>min</th>\n",
       "      <th>mean</th>\n",
       "      <th>std</th>\n",
       "      <th>max</th>\n",
       "      <th>min</th>\n",
       "      <th>mean</th>\n",
       "      <th>std</th>\n",
       "      <th>max</th>\n",
       "      <th>min</th>\n",
       "      <th>mean</th>\n",
       "      <th>std</th>\n",
       "    </tr>\n",
       "    <tr>\n",
       "      <th>gender</th>\n",
       "      <th></th>\n",
       "      <th></th>\n",
       "      <th></th>\n",
       "      <th></th>\n",
       "      <th></th>\n",
       "      <th></th>\n",
       "      <th></th>\n",
       "      <th></th>\n",
       "      <th></th>\n",
       "      <th></th>\n",
       "      <th></th>\n",
       "      <th></th>\n",
       "    </tr>\n",
       "  </thead>\n",
       "  <tbody>\n",
       "    <tr>\n",
       "      <th>female</th>\n",
       "      <td>100</td>\n",
       "      <td>0</td>\n",
       "      <td>63.376448</td>\n",
       "      <td>16.029928</td>\n",
       "      <td>100</td>\n",
       "      <td>17</td>\n",
       "      <td>72.590734</td>\n",
       "      <td>14.411018</td>\n",
       "      <td>100</td>\n",
       "      <td>10</td>\n",
       "      <td>72.467181</td>\n",
       "      <td>14.844842</td>\n",
       "    </tr>\n",
       "    <tr>\n",
       "      <th>male</th>\n",
       "      <td>100</td>\n",
       "      <td>27</td>\n",
       "      <td>68.821577</td>\n",
       "      <td>14.556411</td>\n",
       "      <td>100</td>\n",
       "      <td>23</td>\n",
       "      <td>65.545643</td>\n",
       "      <td>14.149594</td>\n",
       "      <td>100</td>\n",
       "      <td>15</td>\n",
       "      <td>63.446058</td>\n",
       "      <td>14.227225</td>\n",
       "    </tr>\n",
       "  </tbody>\n",
       "</table>\n",
       "</div>"
      ],
      "text/plain": [
       "       math score                           reading score                 \\\n",
       "              max min       mean        std           max min       mean   \n",
       "gender                                                                     \n",
       "female        100   0  63.376448  16.029928           100  17  72.590734   \n",
       "male          100  27  68.821577  14.556411           100  23  65.545643   \n",
       "\n",
       "                  writing score                            \n",
       "              std           max min       mean        std  \n",
       "gender                                                     \n",
       "female  14.411018           100  10  72.467181  14.844842  \n",
       "male    14.149594           100  15  63.446058  14.227225  "
      ]
     },
     "execution_count": 58,
     "metadata": {},
     "output_type": "execute_result"
    }
   ],
   "source": [
    "# d.)What do you think about the scoring variation for math, reading and writing based on\n",
    "# d.i)Based on Gender\n",
    "df.groupby('gender')[['math score','reading score','writing score']].agg(['max','min','mean','std'])"
   ]
  },
  {
   "cell_type": "code",
   "execution_count": 59,
   "id": "014d6779",
   "metadata": {},
   "outputs": [
    {
     "data": {
      "text/html": [
       "<div>\n",
       "<style scoped>\n",
       "    .dataframe tbody tr th:only-of-type {\n",
       "        vertical-align: middle;\n",
       "    }\n",
       "\n",
       "    .dataframe tbody tr th {\n",
       "        vertical-align: top;\n",
       "    }\n",
       "\n",
       "    .dataframe thead tr th {\n",
       "        text-align: left;\n",
       "    }\n",
       "\n",
       "    .dataframe thead tr:last-of-type th {\n",
       "        text-align: right;\n",
       "    }\n",
       "</style>\n",
       "<table border=\"1\" class=\"dataframe\">\n",
       "  <thead>\n",
       "    <tr>\n",
       "      <th></th>\n",
       "      <th colspan=\"4\" halign=\"left\">math score</th>\n",
       "      <th colspan=\"4\" halign=\"left\">reading score</th>\n",
       "      <th colspan=\"4\" halign=\"left\">writing score</th>\n",
       "    </tr>\n",
       "    <tr>\n",
       "      <th></th>\n",
       "      <th>max</th>\n",
       "      <th>min</th>\n",
       "      <th>mean</th>\n",
       "      <th>std</th>\n",
       "      <th>max</th>\n",
       "      <th>min</th>\n",
       "      <th>mean</th>\n",
       "      <th>std</th>\n",
       "      <th>max</th>\n",
       "      <th>min</th>\n",
       "      <th>mean</th>\n",
       "      <th>std</th>\n",
       "    </tr>\n",
       "    <tr>\n",
       "      <th>test preparation course</th>\n",
       "      <th></th>\n",
       "      <th></th>\n",
       "      <th></th>\n",
       "      <th></th>\n",
       "      <th></th>\n",
       "      <th></th>\n",
       "      <th></th>\n",
       "      <th></th>\n",
       "      <th></th>\n",
       "      <th></th>\n",
       "      <th></th>\n",
       "      <th></th>\n",
       "    </tr>\n",
       "  </thead>\n",
       "  <tbody>\n",
       "    <tr>\n",
       "      <th>completed</th>\n",
       "      <td>100</td>\n",
       "      <td>23</td>\n",
       "      <td>69.96648</td>\n",
       "      <td>14.521847</td>\n",
       "      <td>100</td>\n",
       "      <td>37</td>\n",
       "      <td>74.175978</td>\n",
       "      <td>13.537572</td>\n",
       "      <td>100</td>\n",
       "      <td>36</td>\n",
       "      <td>74.684358</td>\n",
       "      <td>13.236412</td>\n",
       "    </tr>\n",
       "    <tr>\n",
       "      <th>none</th>\n",
       "      <td>100</td>\n",
       "      <td>0</td>\n",
       "      <td>63.78972</td>\n",
       "      <td>15.705689</td>\n",
       "      <td>100</td>\n",
       "      <td>17</td>\n",
       "      <td>66.417445</td>\n",
       "      <td>14.608896</td>\n",
       "      <td>100</td>\n",
       "      <td>10</td>\n",
       "      <td>64.457944</td>\n",
       "      <td>15.041667</td>\n",
       "    </tr>\n",
       "  </tbody>\n",
       "</table>\n",
       "</div>"
      ],
      "text/plain": [
       "                        math score                          reading score      \\\n",
       "                               max min      mean        std           max min   \n",
       "test preparation course                                                         \n",
       "completed                      100  23  69.96648  14.521847           100  37   \n",
       "none                           100   0  63.78972  15.705689           100  17   \n",
       "\n",
       "                                              writing score                 \\\n",
       "                              mean        std           max min       mean   \n",
       "test preparation course                                                      \n",
       "completed                74.175978  13.537572           100  36  74.684358   \n",
       "none                     66.417445  14.608896           100  10  64.457944   \n",
       "\n",
       "                                    \n",
       "                               std  \n",
       "test preparation course             \n",
       "completed                13.236412  \n",
       "none                     15.041667  "
      ]
     },
     "execution_count": 59,
     "metadata": {},
     "output_type": "execute_result"
    }
   ],
   "source": [
    "# d.ii) Based on test preparation course\n",
    "df.groupby('test preparation course')[['math score','reading score','writing score']].agg(['max','min','mean','std'])"
   ]
  },
  {
   "cell_type": "code",
   "execution_count": 63,
   "id": "acd4e974",
   "metadata": {},
   "outputs": [
    {
     "data": {
      "text/html": [
       "<div>\n",
       "<style scoped>\n",
       "    .dataframe tbody tr th:only-of-type {\n",
       "        vertical-align: middle;\n",
       "    }\n",
       "\n",
       "    .dataframe tbody tr th {\n",
       "        vertical-align: top;\n",
       "    }\n",
       "\n",
       "    .dataframe thead th {\n",
       "        text-align: right;\n",
       "    }\n",
       "</style>\n",
       "<table border=\"1\" class=\"dataframe\">\n",
       "  <thead>\n",
       "    <tr style=\"text-align: right;\">\n",
       "      <th></th>\n",
       "      <th>gender</th>\n",
       "      <th>race/ethnicity</th>\n",
       "      <th>parental level of education</th>\n",
       "      <th>lunch</th>\n",
       "      <th>test preparation course</th>\n",
       "      <th>math score</th>\n",
       "      <th>reading score</th>\n",
       "      <th>writing score</th>\n",
       "    </tr>\n",
       "  </thead>\n",
       "  <tbody>\n",
       "    <tr>\n",
       "      <th>999</th>\n",
       "      <td>male</td>\n",
       "      <td>group E</td>\n",
       "      <td>bachelor's degree</td>\n",
       "      <td>standard</td>\n",
       "      <td>completed</td>\n",
       "      <td>100</td>\n",
       "      <td>100</td>\n",
       "      <td>100</td>\n",
       "    </tr>\n",
       "    <tr>\n",
       "      <th>996</th>\n",
       "      <td>male</td>\n",
       "      <td>group A</td>\n",
       "      <td>some college</td>\n",
       "      <td>standard</td>\n",
       "      <td>completed</td>\n",
       "      <td>100</td>\n",
       "      <td>96</td>\n",
       "      <td>86</td>\n",
       "    </tr>\n",
       "    <tr>\n",
       "      <th>515</th>\n",
       "      <td>female</td>\n",
       "      <td>group E</td>\n",
       "      <td>some college</td>\n",
       "      <td>standard</td>\n",
       "      <td>none</td>\n",
       "      <td>100</td>\n",
       "      <td>92</td>\n",
       "      <td>97</td>\n",
       "    </tr>\n",
       "    <tr>\n",
       "      <th>517</th>\n",
       "      <td>female</td>\n",
       "      <td>group E</td>\n",
       "      <td>associate's degree</td>\n",
       "      <td>standard</td>\n",
       "      <td>none</td>\n",
       "      <td>100</td>\n",
       "      <td>100</td>\n",
       "      <td>100</td>\n",
       "    </tr>\n",
       "    <tr>\n",
       "      <th>516</th>\n",
       "      <td>female</td>\n",
       "      <td>group E</td>\n",
       "      <td>bachelor's degree</td>\n",
       "      <td>standard</td>\n",
       "      <td>none</td>\n",
       "      <td>100</td>\n",
       "      <td>100</td>\n",
       "      <td>100</td>\n",
       "    </tr>\n",
       "    <tr>\n",
       "      <th>...</th>\n",
       "      <td>...</td>\n",
       "      <td>...</td>\n",
       "      <td>...</td>\n",
       "      <td>...</td>\n",
       "      <td>...</td>\n",
       "      <td>...</td>\n",
       "      <td>...</td>\n",
       "      <td>...</td>\n",
       "    </tr>\n",
       "    <tr>\n",
       "      <th>856</th>\n",
       "      <td>male</td>\n",
       "      <td>group E</td>\n",
       "      <td>some high school</td>\n",
       "      <td>standard</td>\n",
       "      <td>completed</td>\n",
       "      <td>77</td>\n",
       "      <td>76</td>\n",
       "      <td>77</td>\n",
       "    </tr>\n",
       "    <tr>\n",
       "      <th>855</th>\n",
       "      <td>male</td>\n",
       "      <td>group E</td>\n",
       "      <td>associate's degree</td>\n",
       "      <td>free/reduced</td>\n",
       "      <td>completed</td>\n",
       "      <td>77</td>\n",
       "      <td>69</td>\n",
       "      <td>68</td>\n",
       "    </tr>\n",
       "    <tr>\n",
       "      <th>854</th>\n",
       "      <td>male</td>\n",
       "      <td>group D</td>\n",
       "      <td>some high school</td>\n",
       "      <td>standard</td>\n",
       "      <td>completed</td>\n",
       "      <td>77</td>\n",
       "      <td>68</td>\n",
       "      <td>69</td>\n",
       "    </tr>\n",
       "    <tr>\n",
       "      <th>853</th>\n",
       "      <td>male</td>\n",
       "      <td>group D</td>\n",
       "      <td>associate's degree</td>\n",
       "      <td>free/reduced</td>\n",
       "      <td>none</td>\n",
       "      <td>77</td>\n",
       "      <td>78</td>\n",
       "      <td>73</td>\n",
       "    </tr>\n",
       "    <tr>\n",
       "      <th>852</th>\n",
       "      <td>male</td>\n",
       "      <td>group D</td>\n",
       "      <td>some college</td>\n",
       "      <td>free/reduced</td>\n",
       "      <td>none</td>\n",
       "      <td>77</td>\n",
       "      <td>62</td>\n",
       "      <td>64</td>\n",
       "    </tr>\n",
       "  </tbody>\n",
       "</table>\n",
       "<p>250 rows × 8 columns</p>\n",
       "</div>"
      ],
      "text/plain": [
       "     gender race/ethnicity parental level of education         lunch  \\\n",
       "999    male        group E           bachelor's degree      standard   \n",
       "996    male        group A                some college      standard   \n",
       "515  female        group E                some college      standard   \n",
       "517  female        group E          associate's degree      standard   \n",
       "516  female        group E           bachelor's degree      standard   \n",
       "..      ...            ...                         ...           ...   \n",
       "856    male        group E            some high school      standard   \n",
       "855    male        group E          associate's degree  free/reduced   \n",
       "854    male        group D            some high school      standard   \n",
       "853    male        group D          associate's degree  free/reduced   \n",
       "852    male        group D                some college  free/reduced   \n",
       "\n",
       "    test preparation course  math score  reading score  writing score  \n",
       "999               completed         100            100            100  \n",
       "996               completed         100             96             86  \n",
       "515                    none         100             92             97  \n",
       "517                    none         100            100            100  \n",
       "516                    none         100            100            100  \n",
       "..                      ...         ...            ...            ...  \n",
       "856               completed          77             76             77  \n",
       "855               completed          77             69             68  \n",
       "854               completed          77             68             69  \n",
       "853                    none          77             78             73  \n",
       "852                    none          77             62             64  \n",
       "\n",
       "[250 rows x 8 columns]"
      ]
     },
     "execution_count": 63,
     "metadata": {},
     "output_type": "execute_result"
    }
   ],
   "source": [
    "# e) The management needs your help to give bonus points to the top 25% of students based on their math score, so how will you help the management to achieve this.\n",
    "top=0.25*len(df)\n",
    "df_mathrank=df.sort_values(by='math score',ascending=False)\n",
    "df_mathrank.head(int(top))\n"
   ]
  },
  {
   "cell_type": "markdown",
   "id": "73e318a3",
   "metadata": {},
   "source": [
    "Case Study on Testing of Hypothesis"
   ]
  },
  {
   "cell_type": "code",
   "execution_count": 64,
   "id": "121afd72",
   "metadata": {},
   "outputs": [
    {
     "data": {
      "text/plain": [
       "Index(['Month', 'Region', 'Manager', 'Sales_before_digital_add(in $)',\n",
       "       'Sales_After_digital_add(in $)'],\n",
       "      dtype='object')"
      ]
     },
     "execution_count": 64,
     "metadata": {},
     "output_type": "execute_result"
    }
   ],
   "source": [
    "df_sales=pd.read_csv('Sales_add.csv')\n",
    "df_sales.columns"
   ]
  },
  {
   "cell_type": "code",
   "execution_count": 9,
   "id": "e0f77da8",
   "metadata": {},
   "outputs": [
    {
     "name": "stdout",
     "output_type": "stream",
     "text": [
      "pop_mean=149239.95454545456,sample_size=22,sample_mean=231123.72727272726,sample_std=25556.777060725046,alpha=0.05\n"
     ]
    }
   ],
   "source": [
    "#2 a)The company wishes to clarify whether there is any increase in sales after stepping into digital marketing.\n",
    "pop_mean=df_sales['Sales_before_digital_add(in $)'].mean()\n",
    "sample_size=len(df_sales['Sales_After_digital_add(in $)'])\n",
    "sample_mean=df_sales['Sales_After_digital_add(in $)'].mean()\n",
    "sample_std=df_sales['Sales_After_digital_add(in $)'].std()\n",
    "alpha=0.05\n",
    "data=df_sales['Sales_After_digital_add(in $)']\n",
    "print(f'pop_mean={pop_mean},sample_size={sample_size},sample_mean={sample_mean},sample_std={sample_std},alpha=0.05')"
   ]
  },
  {
   "cell_type": "markdown",
   "id": "c1c32f5e",
   "metadata": {},
   "source": [
    "As sample size <30,t-test can be used\n",
    "H0 = There is no increase in sales after stepping in to digital marketing\n",
    "H1=Sales increased after digital marketing\n"
   ]
  },
  {
   "cell_type": "code",
   "execution_count": 65,
   "id": "56b67bae",
   "metadata": {},
   "outputs": [
    {
     "name": "stdout",
     "output_type": "stream",
     "text": [
      "15.028066221386988 5.189045779399668e-13\n"
     ]
    }
   ],
   "source": [
    "import scipy.stats as stats\n",
    "t_stat,p_value=stats.ttest_1samp(data,pop_mean,alternative='greater')\n",
    "print(t_stat,p_value)"
   ]
  },
  {
   "cell_type": "code",
   "execution_count": 66,
   "id": "f3caf1e7",
   "metadata": {},
   "outputs": [
    {
     "name": "stdout",
     "output_type": "stream",
     "text": [
      "Reject null hypothesis.There is an increase in sales after stepping in to digital marketing\n"
     ]
    }
   ],
   "source": [
    "if p_value<alpha:\n",
    "    print('Reject null hypothesis.There is an increase in sales after stepping in to digital marketing')\n",
    "else:\n",
    "    print('Fail to reject null hypothesis.There is no increase in sales after stepping in to digital marketing')"
   ]
  },
  {
   "cell_type": "code",
   "execution_count": 70,
   "id": "3637ca35",
   "metadata": {},
   "outputs": [
    {
     "name": "stdout",
     "output_type": "stream",
     "text": [
      "3.050566893424036 0.5493991051158094 4 [[4.09090909 3.18181818 2.72727273]\n",
      " [2.86363636 2.22727273 1.90909091]\n",
      " [2.04545455 1.59090909 1.36363636]]\n"
     ]
    }
   ],
   "source": [
    "# 2 b)The company needs to check whether there is any dependency between the features “Region” and “Manager”.\n",
    "\n",
    "from scipy.stats import chi2_contingency\n",
    "table=pd.crosstab(df_sales['Region'],df_sales['Manager'])\n",
    "chi2_stat,p_value,dof,expected=stats.chi2_contingency(table)\n",
    "print(chi2_stat,p_value,dof,expected)\n"
   ]
  },
  {
   "cell_type": "code",
   "execution_count": 71,
   "id": "841f6c5f",
   "metadata": {},
   "outputs": [
    {
     "name": "stdout",
     "output_type": "stream",
     "text": [
      "Fail to reject null hypothesis.There is no dependency between 2 objects\n"
     ]
    }
   ],
   "source": [
    "if p_value<alpha:\n",
    "    print('Reject null hypothesis.There is dependency between the objects')\n",
    "else:\n",
    "    print('Fail to reject null hypothesis.There is no dependency between 2 objects')"
   ]
  },
  {
   "cell_type": "code",
   "execution_count": null,
   "id": "714be314",
   "metadata": {},
   "outputs": [],
   "source": []
  }
 ],
 "metadata": {
  "kernelspec": {
   "display_name": "Python 3 (ipykernel)",
   "language": "python",
   "name": "python3"
  },
  "language_info": {
   "codemirror_mode": {
    "name": "ipython",
    "version": 3
   },
   "file_extension": ".py",
   "mimetype": "text/x-python",
   "name": "python",
   "nbconvert_exporter": "python",
   "pygments_lexer": "ipython3",
   "version": "3.10.9"
  }
 },
 "nbformat": 4,
 "nbformat_minor": 5
}
