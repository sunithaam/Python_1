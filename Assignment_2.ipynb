{
  "nbformat": 4,
  "nbformat_minor": 0,
  "metadata": {
    "colab": {
      "provenance": [],
      "toc_visible": true,
      "authorship_tag": "ABX9TyOf22OBXEM3XVOIY2cTTy/a",
      "include_colab_link": true
    },
    "kernelspec": {
      "name": "python3",
      "display_name": "Python 3"
    },
    "language_info": {
      "name": "python"
    }
  },
  "cells": [
    {
      "cell_type": "markdown",
      "metadata": {
        "id": "view-in-github",
        "colab_type": "text"
      },
      "source": [
        "<a href=\"https://colab.research.google.com/github/sunithaam/Python_1/blob/main/Assignment_2.ipynb\" target=\"_parent\"><img src=\"https://colab.research.google.com/assets/colab-badge.svg\" alt=\"Open In Colab\"/></a>"
      ]
    },
    {
      "cell_type": "code",
      "execution_count": null,
      "metadata": {
        "colab": {
          "base_uri": "https://localhost:8080/"
        },
        "id": "kWfTXsnd-b_O",
        "outputId": "19d9accb-4443-4f18-fdf4-9e320e665383"
      },
      "outputs": [
        {
          "output_type": "stream",
          "name": "stdout",
          "text": [
            "Enter a string value : assembly\n",
            "a : 1\n",
            "s : 2\n",
            "e : 1\n",
            "m : 1\n",
            "b : 1\n",
            "l : 1\n",
            "y : 1\n"
          ]
        }
      ],
      "source": [
        "# 1 Displaying count of characters in a string\n",
        "word=input('Enter a string value : ')\n",
        "letter_list=[]\n",
        "for i in range(len(word)):\n",
        "  if word[i] not in letter_list:\n",
        "    letter_list.append(word[i])\n",
        "for i in letter_list:\n",
        "  x=0\n",
        "  for j in range(len(word)):\n",
        "    if word[j]==i:\n",
        "      x=x+1\n",
        "  print(f'{i} : {x}')"
      ]
    },
    {
      "cell_type": "code",
      "source": [
        "# 2 Finding maximum of 3 numbers\n",
        "def maximum(a,b,c):\n",
        "    if a>b and a>c:\n",
        "        largest=a\n",
        "    elif b>a and b>c:\n",
        "        largest=b\n",
        "    else:\n",
        "        largest=c\n",
        "    return(largest)\n",
        "x=int(input('Enter first number : '))\n",
        "y=int(input('Enter second number : '))\n",
        "z=int(input('Enter third number :'))\n",
        "print(maximum(x,y,z))"
      ],
      "metadata": {
        "colab": {
          "base_uri": "https://localhost:8080/"
        },
        "id": "VC5PBWyJGrtL",
        "outputId": "2c19342e-cb63-4642-ae04-9faa3ed82c4d"
      },
      "execution_count": null,
      "outputs": [
        {
          "output_type": "stream",
          "name": "stdout",
          "text": [
            "Enter first number : 34\n",
            "Enter second number : 12\n",
            "Enter third number :7\n",
            "34\n"
          ]
        }
      ]
    },
    {
      "cell_type": "code",
      "source": [
        "# 3 Base raise to exponent\n",
        "def exponent(base,exp):\n",
        "  output=base**exp\n",
        "  return(output)\n",
        "x=int(input('Enter the base : '))\n",
        "y=int(input('Enter the exponent : '))\n",
        "print(exponent(x,y))"
      ],
      "metadata": {
        "colab": {
          "base_uri": "https://localhost:8080/"
        },
        "id": "ULoXhu1cIhwg",
        "outputId": "138bb5f8-1a26-4812-fe9f-b89033ff7fbf"
      },
      "execution_count": null,
      "outputs": [
        {
          "output_type": "stream",
          "name": "stdout",
          "text": [
            "Enter the base : 2\n",
            "Enter the exponent : 3\n",
            "8\n"
          ]
        }
      ]
    },
    {
      "cell_type": "code",
      "source": [
        "# 4 Sum of cubes\n",
        "def cube_sum(num):\n",
        "  sum=0\n",
        "  for i in range(num):\n",
        "    sum=sum+i**3\n",
        "  return(sum)\n",
        "num=int(input('input : '))\n",
        "print (cube_sum(num))"
      ],
      "metadata": {
        "colab": {
          "base_uri": "https://localhost:8080/"
        },
        "id": "G29ILtQsLLBj",
        "outputId": "7b2c880a-6d08-47ad-c214-49df0964a74e"
      },
      "execution_count": null,
      "outputs": [
        {
          "output_type": "stream",
          "name": "stdout",
          "text": [
            "input : 4\n",
            "36\n"
          ]
        }
      ]
    },
    {
      "cell_type": "code",
      "source": [
        "# 5 Printing Fizz and Buzz\n",
        "for i in range(1,11):\n",
        "    if i%2==0:\n",
        "        if i%5==0:\n",
        "            print('FizzBuzz')\n",
        "        else:\n",
        "          print('Fizz')\n",
        "    elif i%5==0:\n",
        "      print('Buzz')\n",
        "    else:\n",
        "      print(i)"
      ],
      "metadata": {
        "colab": {
          "base_uri": "https://localhost:8080/"
        },
        "id": "KnlkWKg8QLID",
        "outputId": "ae48a0a6-fe39-4c5e-c8a6-b9d534983c13"
      },
      "execution_count": null,
      "outputs": [
        {
          "output_type": "stream",
          "name": "stdout",
          "text": [
            "1\n",
            "Fizz\n",
            "3\n",
            "Fizz\n",
            "Buzz\n",
            "Fizz\n",
            "7\n",
            "Fizz\n",
            "9\n",
            "FizzBuzz\n"
          ]
        }
      ]
    },
    {
      "cell_type": "code",
      "source": [
        "# 6 Finding the most frequent item\n",
        "num_list=[2,3,4,2,5,2]\n",
        "most_freq=0\n",
        "for i in num_list:\n",
        "  count=num_list.count(i)\n",
        "  if count>most_freq:\n",
        "    most_freq=i\n",
        "print(most_freq)\n",
        "\n"
      ],
      "metadata": {
        "colab": {
          "base_uri": "https://localhost:8080/"
        },
        "id": "9GdOWxbCR0Xo",
        "outputId": "93a13991-84b8-4f96-ef59-df416cc6e083"
      },
      "execution_count": null,
      "outputs": [
        {
          "output_type": "stream",
          "name": "stdout",
          "text": [
            "2\n"
          ]
        }
      ]
    },
    {
      "cell_type": "code",
      "source": [
        "# 7 Sum of squares\n",
        "square_list=[2,1,3,1]\n",
        "sum_squares=0\n",
        "for i in square_list:\n",
        "    sum_squares=sum_squares+(i**2)\n",
        "print(sum_squares)"
      ],
      "metadata": {
        "colab": {
          "base_uri": "https://localhost:8080/"
        },
        "id": "24RpUEAgavDN",
        "outputId": "e0d24036-f833-48d2-823d-1532158086f5"
      },
      "execution_count": null,
      "outputs": [
        {
          "output_type": "stream",
          "name": "stdout",
          "text": [
            "15\n"
          ]
        }
      ]
    },
    {
      "cell_type": "code",
      "source": [
        "# 8 Printing odd or even\n",
        "for i in range(1,16):\n",
        "    if i%2==0:\n",
        "        print(f'{i} - even')\n",
        "    else:\n",
        "        print(f'{i} - odd')"
      ],
      "metadata": {
        "colab": {
          "base_uri": "https://localhost:8080/"
        },
        "id": "vHfmnXrRbZgv",
        "outputId": "e0b5af68-32d0-4e86-a77a-8f5a3332fb79"
      },
      "execution_count": null,
      "outputs": [
        {
          "output_type": "stream",
          "name": "stdout",
          "text": [
            "1 - odd\n",
            "2 - even\n",
            "3 - odd\n",
            "4 - even\n",
            "5 - odd\n",
            "6 - even\n",
            "7 - odd\n",
            "8 - even\n",
            "9 - odd\n",
            "10 - even\n",
            "11 - odd\n",
            "12 - even\n",
            "13 - odd\n",
            "14 - even\n",
            "15 - odd\n"
          ]
        }
      ]
    },
    {
      "cell_type": "code",
      "source": [
        "# 9 Conversion of temperature\n",
        "def cel_far(c):\n",
        "    f=((9*c)/5)+32\n",
        "    return(f)\n",
        "def far_cel(f):\n",
        "    c=(f-32)*5/9\n",
        "    return(c)\n",
        "value=input('Enter unit of temp to be converted F for Farenheit and C for Celsius: ')\n",
        "if value=='C':\n",
        "    temp=int(input('Enter temperature in Celsius : '))\n",
        "    print('Temperature in Farenheit : ' ,cel_far(temp))\n",
        "elif value=='F':\n",
        "    temp=int(input('Enter temperature in Farenheit : '))\n",
        "    print('Temperature in Celsius : ' ,far_cel(temp))\n",
        "else:\n",
        "    print('Not a valid input')"
      ],
      "metadata": {
        "colab": {
          "base_uri": "https://localhost:8080/"
        },
        "id": "RUHqbFjXbP8-",
        "outputId": "85c10cf5-c2d6-48bb-db08-d14dbad4c532"
      },
      "execution_count": 9,
      "outputs": [
        {
          "output_type": "stream",
          "name": "stdout",
          "text": [
            "Enter unit of temp to be converted F for Farenheit and C for Celsius: F\n",
            "Enter temperature in Farenheit : 41\n",
            "Temperature in Celsius :  5.0\n"
          ]
        }
      ]
    },
    {
      "cell_type": "code",
      "source": [
        "#10 Factorial of number\n",
        "def factorial(num):\n",
        "  if num<0:\n",
        "    return ('Not defined')\n",
        "  elif num==0 or num==1:\n",
        "    return(1)\n",
        "  else:\n",
        "    x=1\n",
        "    for i in range(1,num+1):\n",
        "      x=x*i\n",
        "    return(x)\n",
        "number=int(input('Enter number: '))\n",
        "print(f'Factorial of {number} is {factorial(number)}')"
      ],
      "metadata": {
        "colab": {
          "base_uri": "https://localhost:8080/"
        },
        "id": "PDv5x9rgbxdB",
        "outputId": "c7f03aa4-3c15-435b-b0a2-69de653d7329"
      },
      "execution_count": 8,
      "outputs": [
        {
          "output_type": "stream",
          "name": "stdout",
          "text": [
            "Enter number: 3\n",
            "Factorial of 3 is 6\n"
          ]
        }
      ]
    }
  ]
}