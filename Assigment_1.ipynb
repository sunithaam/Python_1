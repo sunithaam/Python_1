{
  "nbformat": 4,
  "nbformat_minor": 0,
  "metadata": {
    "colab": {
      "provenance": [],
      "authorship_tag": "ABX9TyMicuHPgwsTWEn8AyPxl+Dr",
      "include_colab_link": true
    },
    "kernelspec": {
      "name": "python3",
      "display_name": "Python 3"
    },
    "language_info": {
      "name": "python"
    }
  },
  "cells": [
    {
      "cell_type": "markdown",
      "metadata": {
        "id": "view-in-github",
        "colab_type": "text"
      },
      "source": [
        "<a href=\"https://colab.research.google.com/github/sunithaam/Python_1/blob/main/Assigment_1.ipynb\" target=\"_parent\"><img src=\"https://colab.research.google.com/assets/colab-badge.svg\" alt=\"Open In Colab\"/></a>"
      ]
    },
    {
      "cell_type": "code",
      "execution_count": null,
      "metadata": {
        "colab": {
          "base_uri": "https://localhost:8080/"
        },
        "id": "0xd6DEmzEH21",
        "outputId": "2bc6c35b-18e4-470a-9f3a-211a92c4ab70"
      },
      "outputs": [
        {
          "output_type": "stream",
          "name": "stdout",
          "text": [
            "Enter the radius: 3\n",
            "Area of the circle is 28.26\n"
          ]
        }
      ],
      "source": [
        "#1\n",
        "radius=float(input('Enter the radius: '))\n",
        "area_circle=3.14*(radius)**2\n",
        "print(f'Area of the circle is {area_circle}')"
      ]
    },
    {
      "cell_type": "code",
      "source": [
        "#2\n",
        "Name=input('Enter the name: ')\n",
        "Roll_No=input('Enter the roll number: ')\n",
        "Mark=input('Enter the mark: ')\n",
        "\n",
        "print(f'Name : {Name}\\nRoll No :{Roll_No}\\nMark :{Mark}')"
      ],
      "metadata": {
        "colab": {
          "base_uri": "https://localhost:8080/"
        },
        "id": "OkbS8MFuLep-",
        "outputId": "51f2cd92-55cf-46fe-c50c-b2e2ed4bd6e8"
      },
      "execution_count": null,
      "outputs": [
        {
          "output_type": "stream",
          "name": "stdout",
          "text": [
            "Enter the name: Anisha\n",
            "Enter the roll number: 21\n",
            "Enter the mark: 78\n",
            "Name : Anisha\n",
            "Roll No :21\n",
            "Mark :78\n"
          ]
        }
      ]
    },
    {
      "cell_type": "code",
      "source": [
        "#3\n",
        "lst=[]\n",
        "while True:\n",
        "  x=input('Enter the number.Press Z to stop entering: ')\n",
        "  if x=='Z':\n",
        "    break\n",
        "  lst.append(x)\n",
        "lst=[int(i) for i in lst]\n",
        "def largest(sample):\n",
        "  value=0\n",
        "  for i in range(len(sample)):\n",
        "    if sample[i]>value:\n",
        "      value=sample[i]\n",
        "  print(f'{value} is the largest number')\n",
        "largest(lst)\n"
      ],
      "metadata": {
        "colab": {
          "base_uri": "https://localhost:8080/"
        },
        "id": "b78rKMVidNvZ",
        "outputId": "7b846ba1-00dc-4b5e-a401-c568f155e8a5"
      },
      "execution_count": null,
      "outputs": [
        {
          "output_type": "stream",
          "name": "stdout",
          "text": [
            "Enter the number.Press Z to stop entering: 12\n",
            "Enter the number.Press Z to stop entering: 3\n",
            "Enter the number.Press Z to stop entering: 47\n",
            "Enter the number.Press Z to stop entering: 10\n",
            "Enter the number.Press Z to stop entering: Z\n",
            "47 is the largest number\n"
          ]
        }
      ]
    },
    {
      "cell_type": "code",
      "source": [
        "#4\n",
        "for i in range(1,11):\n",
        "  Current_no=i\n",
        "  Prev_no=i-1\n",
        "  sum=Current_no+Prev_no\n",
        "  print(f'Current Number {Current_no} Previous Number {Prev_no} Sum: {sum}')"
      ],
      "metadata": {
        "colab": {
          "base_uri": "https://localhost:8080/"
        },
        "id": "Fbzr1pYIlLuO",
        "outputId": "8442e3a3-5e86-4fea-8463-5703014f7e66"
      },
      "execution_count": null,
      "outputs": [
        {
          "output_type": "stream",
          "name": "stdout",
          "text": [
            "Current Number 1 Previous Number 0 Sum: 1\n",
            "Current Number 2 Previous Number 1 Sum: 3\n",
            "Current Number 3 Previous Number 2 Sum: 5\n",
            "Current Number 4 Previous Number 3 Sum: 7\n",
            "Current Number 5 Previous Number 4 Sum: 9\n",
            "Current Number 6 Previous Number 5 Sum: 11\n",
            "Current Number 7 Previous Number 6 Sum: 13\n",
            "Current Number 8 Previous Number 7 Sum: 15\n",
            "Current Number 9 Previous Number 8 Sum: 17\n",
            "Current Number 10 Previous Number 9 Sum: 19\n"
          ]
        }
      ]
    },
    {
      "cell_type": "code",
      "source": [
        "#5\n",
        "x=[10,20,33,46,55]\n",
        "for i in range(len(x)):\n",
        "  if x[i]%5==0:\n",
        "    print(x[i])"
      ],
      "metadata": {
        "colab": {
          "base_uri": "https://localhost:8080/"
        },
        "id": "a9XrRyQp7NGt",
        "outputId": "0f964d39-af70-4aea-a055-f3d670d6e27a"
      },
      "execution_count": null,
      "outputs": [
        {
          "output_type": "stream",
          "name": "stdout",
          "text": [
            "10\n",
            "20\n",
            "55\n"
          ]
        }
      ]
    },
    {
      "cell_type": "code",
      "source": [
        "#6\n",
        "num=int(input('Enter the number: '))\n",
        "if (num ==1):\n",
        "  print('1 is not a prime number')\n",
        "elif(num==2):\n",
        "  print('2 is a prime number')\n",
        "elif(num>2):\n",
        "  for i in range(2,num):\n",
        "    x=num%i\n",
        "    if x==0:\n",
        "      print(f'{num} is not a prime number')\n",
        "      break\n",
        "  if x!=0:\n",
        "    print(f'{num} is a prime number')\n"
      ],
      "metadata": {
        "colab": {
          "base_uri": "https://localhost:8080/"
        },
        "id": "u2wekL1rwIcG",
        "outputId": "4bcbb59b-07c7-4783-8e2a-dbba95e5825d"
      },
      "execution_count": null,
      "outputs": [
        {
          "output_type": "stream",
          "name": "stdout",
          "text": [
            "Enter the number: 3\n",
            "3 is a prime number\n"
          ]
        }
      ]
    },
    {
      "cell_type": "code",
      "source": [
        "#7\n",
        "my_list=[10,40,30,70]\n",
        "list_rev=[]\n",
        "for i in range(len(my_list)):\n",
        "  list_rev.append(my_list[-(i+1)])\n",
        "print(list_rev)"
      ],
      "metadata": {
        "colab": {
          "base_uri": "https://localhost:8080/"
        },
        "id": "-u1bRYJ2ylVd",
        "outputId": "0e5e1fa8-6a99-4616-e64d-04ef82fc22e8"
      },
      "execution_count": null,
      "outputs": [
        {
          "output_type": "stream",
          "name": "stdout",
          "text": [
            "[70, 30, 40, 10]\n"
          ]
        }
      ]
    },
    {
      "cell_type": "code",
      "source": [
        "#8\n",
        "for i in range(1,5):\n",
        "  print('*'*i)"
      ],
      "metadata": {
        "colab": {
          "base_uri": "https://localhost:8080/"
        },
        "id": "lF_CBBMm-C2z",
        "outputId": "bf8c2ca7-02a5-45fa-993a-838fd1768580"
      },
      "execution_count": null,
      "outputs": [
        {
          "output_type": "stream",
          "name": "stdout",
          "text": [
            "*\n",
            "**\n",
            "***\n",
            "****\n"
          ]
        }
      ]
    },
    {
      "cell_type": "code",
      "source": [
        "#9\n",
        "nlst=[34,12,7]\n",
        "value=0\n",
        "for i in range(len(nlst)):\n",
        "  if nlst[i]>value:\n",
        "    value=nlst[i]\n",
        "print(value)\n"
      ],
      "metadata": {
        "colab": {
          "base_uri": "https://localhost:8080/"
        },
        "id": "wWpgTLoV-guA",
        "outputId": "d5ee31da-fb9f-402d-c6f3-cfdbf72f4041"
      },
      "execution_count": null,
      "outputs": [
        {
          "output_type": "stream",
          "name": "stdout",
          "text": [
            "34\n"
          ]
        }
      ]
    },
    {
      "cell_type": "code",
      "source": [
        "#10\n",
        "for i in range(1,10):\n",
        "  if i<6:\n",
        "    for j in range(1,i+1):\n",
        "      print('*',end=\" \")\n",
        "    print('\\r')\n",
        "  else:\n",
        "    for j in range(1,11-i):\n",
        "      print('*',end=' ')\n",
        "    print('\\r')\n"
      ],
      "metadata": {
        "colab": {
          "base_uri": "https://localhost:8080/"
        },
        "id": "AuqS6lGaAgoe",
        "outputId": "8faaaf95-af00-4bc1-e112-799068dd44a6"
      },
      "execution_count": null,
      "outputs": [
        {
          "output_type": "stream",
          "name": "stdout",
          "text": [
            "* \r\n",
            "* * \r\n",
            "* * * \r\n",
            "* * * * \r\n",
            "* * * * * \r\n",
            "* * * * \r\n",
            "* * * \r\n",
            "* * \r\n",
            "* \r\n"
          ]
        }
      ]
    }
  ]
}